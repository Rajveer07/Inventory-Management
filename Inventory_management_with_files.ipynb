{
 "cells": [
  {
   "cell_type": "code",
   "execution_count": 1,
   "id": "99b6c4a8-cd91-4f67-a9de-94d7a863e721",
   "metadata": {},
   "outputs": [],
   "source": [
    "fd = open('inventory.txt','w')\n",
    "fd.close()"
   ]
  },
  {
   "cell_type": "markdown",
   "id": "5673ec92-dc35-4ea1-b8ab-6a56b70aa652",
   "metadata": {},
   "source": [
    "1. Product ID\n",
    "2. Name of Product\n",
    "3. Price\n",
    "4. Quantity"
   ]
  },
  {
   "cell_type": "code",
   "execution_count": 4,
   "id": "8547d60c-a4c3-4ed1-837e-2abf36364908",
   "metadata": {},
   "outputs": [],
   "source": [
    "fd = open('inventory.txt','w')\n",
    "fd.write(\"1,5 Star,5,100\\n2,Milky bar,5,100\\n3,Peark,5,400\\n4,pulse,1,200\")\n",
    "fd.close()\n",
    "         "
   ]
  },
  {
   "cell_type": "code",
   "execution_count": 5,
   "id": "2a12d2e3-1365-408a-98cc-67222ff60e5f",
   "metadata": {},
   "outputs": [],
   "source": [
    "fd = open('inventory.txt','r')\n",
    "txt = fd.read()\n",
    "fd.close()\n"
   ]
  },
  {
   "cell_type": "code",
   "execution_count": 6,
   "id": "7d32d021-3dd4-44eb-8216-cfca75891f3f",
   "metadata": {},
   "outputs": [
    {
     "data": {
      "text/plain": [
       "'1,5 Star,5,100\\n2,Milky bar,5,100\\n3,Peark,5,400\\n4,pulse,1,200'"
      ]
     },
     "execution_count": 6,
     "metadata": {},
     "output_type": "execute_result"
    }
   ],
   "source": [
    "txt\n"
   ]
  },
  {
   "cell_type": "code",
   "execution_count": 7,
   "id": "dd6c7d2f-6b90-47e8-984c-3d6ad945657d",
   "metadata": {},
   "outputs": [
    {
     "name": "stdout",
     "output_type": "stream",
     "text": [
      "1,5 Star,5,100\n",
      "2,Milky bar,5,100\n",
      "3,Peark,5,400\n",
      "4,pulse,1,200\n"
     ]
    }
   ],
   "source": [
    "print(txt)\n"
   ]
  },
  {
   "cell_type": "code",
   "execution_count": 8,
   "id": "15a3231c-5fa1-4c9f-bdc7-336e7b8276cc",
   "metadata": {},
   "outputs": [
    {
     "data": {
      "text/plain": [
       "['1,5 Star,5,100', '2,Milky bar,5,100', '3,Peark,5,400', '4,pulse,1,200']"
      ]
     },
     "execution_count": 8,
     "metadata": {},
     "output_type": "execute_result"
    }
   ],
   "source": [
    "txt.split('\\n')"
   ]
  },
  {
   "cell_type": "code",
   "execution_count": 9,
   "id": "fde6bdbb-f6b4-4a42-bd20-69eed056e683",
   "metadata": {},
   "outputs": [],
   "source": [
    "fd = open('inventory.txt','r')\n",
    "products = fd.read().split('\\n')\n",
    "fd.close()"
   ]
  },
  {
   "cell_type": "code",
   "execution_count": 14,
   "id": "e2c3501a-bc55-4952-927d-80ce7146e370",
   "metadata": {},
   "outputs": [
    {
     "name": "stdout",
     "output_type": "stream",
     "text": [
      "1,5 Star,5,100\n",
      "2,Milky bar,5,100\n",
      "3,Peark,5,400\n",
      "4,pulse,1,200\n"
     ]
    }
   ],
   "source": [
    "for i in products:\n",
    "    print(i)"
   ]
  },
  {
   "cell_type": "code",
   "execution_count": 16,
   "id": "00ce5e61-8b18-45e5-94ed-dc609f1d6691",
   "metadata": {},
   "outputs": [],
   "source": [
    "##Bill"
   ]
  },
  {
   "cell_type": "code",
   "execution_count": 19,
   "id": "4834e3ce-0467-4a99-80fd-eedc8dfcbce3",
   "metadata": {},
   "outputs": [
    {
     "name": "stdin",
     "output_type": "stream",
     "text": [
      "Enter the product ID: 4\n",
      "Enter product Quantity: 100\n"
     ]
    },
    {
     "name": "stdout",
     "output_type": "stream",
     "text": [
      "------------------------------\n",
      "Prodect Name          : pulse\n",
      "Price                 : 1\n",
      "Quantity              : 200\n",
      "------------------------------\n",
      "Billing Amount        : 100\n",
      "------------------------------\n"
     ]
    }
   ],
   "source": [
    "ui_prod_id = input(\"Enter the product ID:\")\n",
    "ui_prod_qn = input(\"Enter product Quantity:\")\n",
    "\n",
    "for product in products:\n",
    "    prod_details = product.split(\",\")\n",
    "\n",
    "    if(prod_details[0]== ui_prod_id):\n",
    "        print(\"------------------------------\")\n",
    "        print(\"Prodect Name          :\",prod_details[1])\n",
    "        print(\"Price                 :\",prod_details[2])\n",
    "        print(\"Quantity              :\",prod_details[3])\n",
    "        print(\"------------------------------\")\n",
    "        print(\"Billing Amount        :\", int(ui_prod_qn) * int(prod_details[2]))\n",
    "        print(\"------------------------------\")"
   ]
  },
  {
   "cell_type": "code",
   "execution_count": null,
   "id": "fb9253d1-6919-498e-bb3c-48b779b5fe7d",
   "metadata": {},
   "outputs": [],
   "source": []
  }
 ],
 "metadata": {
  "kernelspec": {
   "display_name": "Python 3 (ipykernel)",
   "language": "python",
   "name": "python3"
  },
  "language_info": {
   "codemirror_mode": {
    "name": "ipython",
    "version": 3
   },
   "file_extension": ".py",
   "mimetype": "text/x-python",
   "name": "python",
   "nbconvert_exporter": "python",
   "pygments_lexer": "ipython3",
   "version": "3.11.7"
  }
 },
 "nbformat": 4,
 "nbformat_minor": 5
}
